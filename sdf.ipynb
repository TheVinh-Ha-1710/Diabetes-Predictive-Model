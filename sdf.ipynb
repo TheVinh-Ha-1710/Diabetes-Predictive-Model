{
 "cells": [
  {
   "cell_type": "markdown",
   "id": "ce14be72-d49d-4f71-a830-9f225061140b",
   "metadata": {},
   "source": [
    "# Diabetes Predictive Model"
   ]
  },
  {
   "cell_type": "markdown",
   "id": "a4c63fa2",
   "metadata": {},
   "source": [
    "### I. Introduction"
   ]
  },
  {
   "cell_type": "markdown",
   "id": "1b21679a-0393-4150-93f5-cf34828ee22d",
   "metadata": {},
   "source": [
    "**Author:** *The Vinh (Vin) Ha*<br><br>\n",
    "**Project Overview:** *The rising prevalence of diabetes, particularly among specific populations, necessitates early and accurate diagnosis to manage and mitigate its impact. In this project, the goal is to develop a predictive model using the \"Diabetes Dataset\" from the Pima Indians, available on Kaggle. This dataset, compiled by the National Institute of Diabetes and Digestive and Kidney Diseases, contains medical records of female patients. The project aims to leverage machine learning techniques to create a reliable and interpretable model that can predict the likelihood of diabetes in female patients based on their health metrics. The outcomes of this project could potentially aid in early detection and contribute to more effective management of diabetes in vulnerable populations.*"
   ]
  },
  {
   "cell_type": "markdown",
   "id": "3cb5cc91-90bb-4190-8503-f6122a9d0a4c",
   "metadata": {},
   "source": [
    "### II. Dataset"
   ]
  },
  {
   "cell_type": "markdown",
   "id": "652b5cab",
   "metadata": {},
   "source": [
    "**Description of the attributes in the dataset:**<br><br>\n",
    "*- Pregnancies: To express the Number of pregnancies*<br><br>\n",
    "*- Glucose: To express the Glucose level in blood*<br><br>\n",
    "*- BloodPressure: To express the Blood pressure measurement*<br><br>\n",
    "*- SkinThickness: To express the thickness of the skin*<br><br>\n",
    "*- Insulin: To express the Insulin level in blood*<br><br>\n",
    "*- BMI: To express the Body mass index*<br><br>\n",
    "*- DiabetesPedigreeFunction: To express the Diabetes percentage*<br><br>\n",
    "*- Age: To express the age*<br><br>\n",
    "*- Outcome: To express the final result 1 is Yes and 0 is No*"
   ]
  },
  {
   "cell_type": "markdown",
   "id": "25c81210",
   "metadata": {},
   "source": [
    "### III. Data Preprocessing and Exploratory Data Analysis"
   ]
  },
  {
   "cell_type": "code",
   "execution_count": 1,
   "id": "3aef5ac0",
   "metadata": {},
   "outputs": [],
   "source": [
    "import pandas as pd\n",
    "import numpy as np \n",
    "import seaborn as sns\n",
    "import matplotlib.pyplot as plt\n",
    "%matplotlib inline\n",
    "import warnings\n",
    "warnings.filterwarnings('ignore')"
   ]
  },
  {
   "cell_type": "code",
   "execution_count": 2,
   "id": "725edabf",
   "metadata": {},
   "outputs": [
    {
     "data": {
      "text/html": [
       "<div>\n",
       "<style scoped>\n",
       "    .dataframe tbody tr th:only-of-type {\n",
       "        vertical-align: middle;\n",
       "    }\n",
       "\n",
       "    .dataframe tbody tr th {\n",
       "        vertical-align: top;\n",
       "    }\n",
       "\n",
       "    .dataframe thead th {\n",
       "        text-align: right;\n",
       "    }\n",
       "</style>\n",
       "<table border=\"1\" class=\"dataframe\">\n",
       "  <thead>\n",
       "    <tr style=\"text-align: right;\">\n",
       "      <th></th>\n",
       "      <th>Pregnancies</th>\n",
       "      <th>Glucose</th>\n",
       "      <th>BloodPressure</th>\n",
       "      <th>SkinThickness</th>\n",
       "      <th>Insulin</th>\n",
       "      <th>BMI</th>\n",
       "      <th>DiabetesPedigreeFunction</th>\n",
       "      <th>Age</th>\n",
       "      <th>Outcome</th>\n",
       "    </tr>\n",
       "  </thead>\n",
       "  <tbody>\n",
       "    <tr>\n",
       "      <th>0</th>\n",
       "      <td>6</td>\n",
       "      <td>148</td>\n",
       "      <td>72</td>\n",
       "      <td>35</td>\n",
       "      <td>0</td>\n",
       "      <td>33.6</td>\n",
       "      <td>0.627</td>\n",
       "      <td>50</td>\n",
       "      <td>1</td>\n",
       "    </tr>\n",
       "    <tr>\n",
       "      <th>1</th>\n",
       "      <td>1</td>\n",
       "      <td>85</td>\n",
       "      <td>66</td>\n",
       "      <td>29</td>\n",
       "      <td>0</td>\n",
       "      <td>26.6</td>\n",
       "      <td>0.351</td>\n",
       "      <td>31</td>\n",
       "      <td>0</td>\n",
       "    </tr>\n",
       "    <tr>\n",
       "      <th>2</th>\n",
       "      <td>8</td>\n",
       "      <td>183</td>\n",
       "      <td>64</td>\n",
       "      <td>0</td>\n",
       "      <td>0</td>\n",
       "      <td>23.3</td>\n",
       "      <td>0.672</td>\n",
       "      <td>32</td>\n",
       "      <td>1</td>\n",
       "    </tr>\n",
       "    <tr>\n",
       "      <th>3</th>\n",
       "      <td>1</td>\n",
       "      <td>89</td>\n",
       "      <td>66</td>\n",
       "      <td>23</td>\n",
       "      <td>94</td>\n",
       "      <td>28.1</td>\n",
       "      <td>0.167</td>\n",
       "      <td>21</td>\n",
       "      <td>0</td>\n",
       "    </tr>\n",
       "    <tr>\n",
       "      <th>4</th>\n",
       "      <td>0</td>\n",
       "      <td>137</td>\n",
       "      <td>40</td>\n",
       "      <td>35</td>\n",
       "      <td>168</td>\n",
       "      <td>43.1</td>\n",
       "      <td>2.288</td>\n",
       "      <td>33</td>\n",
       "      <td>1</td>\n",
       "    </tr>\n",
       "  </tbody>\n",
       "</table>\n",
       "</div>"
      ],
      "text/plain": [
       "   Pregnancies  Glucose  BloodPressure  SkinThickness  Insulin   BMI  \\\n",
       "0            6      148             72             35        0  33.6   \n",
       "1            1       85             66             29        0  26.6   \n",
       "2            8      183             64              0        0  23.3   \n",
       "3            1       89             66             23       94  28.1   \n",
       "4            0      137             40             35      168  43.1   \n",
       "\n",
       "   DiabetesPedigreeFunction  Age  Outcome  \n",
       "0                     0.627   50        1  \n",
       "1                     0.351   31        0  \n",
       "2                     0.672   32        1  \n",
       "3                     0.167   21        0  \n",
       "4                     2.288   33        1  "
      ]
     },
     "execution_count": 2,
     "metadata": {},
     "output_type": "execute_result"
    }
   ],
   "source": [
    "dia = pd.read_csv('diabetes.csv')\n",
    "dia.head()"
   ]
  },
  {
   "cell_type": "code",
   "execution_count": 3,
   "id": "be9dc8bb",
   "metadata": {},
   "outputs": [
    {
     "name": "stdout",
     "output_type": "stream",
     "text": [
      "Dataset shape: Rows: 768   Columns: 9\n"
     ]
    }
   ],
   "source": [
    "print(f'Dataset shape: Rows: {dia.shape[0]}   Columns: {dia.shape[1]}')"
   ]
  },
  {
   "cell_type": "code",
   "execution_count": 4,
   "id": "72b07059",
   "metadata": {},
   "outputs": [
    {
     "name": "stdout",
     "output_type": "stream",
     "text": [
      "<class 'pandas.core.frame.DataFrame'>\n",
      "RangeIndex: 768 entries, 0 to 767\n",
      "Data columns (total 9 columns):\n",
      " #   Column                    Non-Null Count  Dtype  \n",
      "---  ------                    --------------  -----  \n",
      " 0   Pregnancies               768 non-null    int64  \n",
      " 1   Glucose                   768 non-null    int64  \n",
      " 2   BloodPressure             768 non-null    int64  \n",
      " 3   SkinThickness             768 non-null    int64  \n",
      " 4   Insulin                   768 non-null    int64  \n",
      " 5   BMI                       768 non-null    float64\n",
      " 6   DiabetesPedigreeFunction  768 non-null    float64\n",
      " 7   Age                       768 non-null    int64  \n",
      " 8   Outcome                   768 non-null    int64  \n",
      "dtypes: float64(2), int64(7)\n",
      "memory usage: 54.1 KB\n"
     ]
    }
   ],
   "source": [
    "dia.info()"
   ]
  },
  {
   "cell_type": "markdown",
   "id": "257ef38f",
   "metadata": {},
   "source": [
    "*-Briefly looking through a few information of the dataset, we can see that this dataset has 9 attributes and 768 records in total.*<br><br>\n",
    "*-Fortunately, it is shown in the info() function that there is no missing value in this dataset. So, we do not need to fill or drop any record.*<br><br>"
   ]
  },
  {
   "cell_type": "markdown",
   "id": "d342750b",
   "metadata": {},
   "source": [
    "**Now let's look through the records to see if there is any outliers, and then remove it.**"
   ]
  },
  {
   "cell_type": "code",
   "execution_count": 5,
   "id": "930a4b57",
   "metadata": {},
   "outputs": [
    {
     "data": {
      "text/html": [
       "<div>\n",
       "<style scoped>\n",
       "    .dataframe tbody tr th:only-of-type {\n",
       "        vertical-align: middle;\n",
       "    }\n",
       "\n",
       "    .dataframe tbody tr th {\n",
       "        vertical-align: top;\n",
       "    }\n",
       "\n",
       "    .dataframe thead th {\n",
       "        text-align: right;\n",
       "    }\n",
       "</style>\n",
       "<table border=\"1\" class=\"dataframe\">\n",
       "  <thead>\n",
       "    <tr style=\"text-align: right;\">\n",
       "      <th></th>\n",
       "      <th>Pregnancies</th>\n",
       "      <th>Glucose</th>\n",
       "      <th>BloodPressure</th>\n",
       "      <th>SkinThickness</th>\n",
       "      <th>Insulin</th>\n",
       "      <th>BMI</th>\n",
       "      <th>DiabetesPedigreeFunction</th>\n",
       "      <th>Age</th>\n",
       "      <th>Outcome</th>\n",
       "    </tr>\n",
       "  </thead>\n",
       "  <tbody>\n",
       "    <tr>\n",
       "      <th>count</th>\n",
       "      <td>768.000000</td>\n",
       "      <td>768.000000</td>\n",
       "      <td>768.000000</td>\n",
       "      <td>768.000000</td>\n",
       "      <td>768.000000</td>\n",
       "      <td>768.000000</td>\n",
       "      <td>768.000000</td>\n",
       "      <td>768.000000</td>\n",
       "      <td>768.000000</td>\n",
       "    </tr>\n",
       "    <tr>\n",
       "      <th>mean</th>\n",
       "      <td>3.845052</td>\n",
       "      <td>120.894531</td>\n",
       "      <td>69.105469</td>\n",
       "      <td>20.536458</td>\n",
       "      <td>79.799479</td>\n",
       "      <td>31.992578</td>\n",
       "      <td>0.471876</td>\n",
       "      <td>33.240885</td>\n",
       "      <td>0.348958</td>\n",
       "    </tr>\n",
       "    <tr>\n",
       "      <th>std</th>\n",
       "      <td>3.369578</td>\n",
       "      <td>31.972618</td>\n",
       "      <td>19.355807</td>\n",
       "      <td>15.952218</td>\n",
       "      <td>115.244002</td>\n",
       "      <td>7.884160</td>\n",
       "      <td>0.331329</td>\n",
       "      <td>11.760232</td>\n",
       "      <td>0.476951</td>\n",
       "    </tr>\n",
       "    <tr>\n",
       "      <th>min</th>\n",
       "      <td>0.000000</td>\n",
       "      <td>0.000000</td>\n",
       "      <td>0.000000</td>\n",
       "      <td>0.000000</td>\n",
       "      <td>0.000000</td>\n",
       "      <td>0.000000</td>\n",
       "      <td>0.078000</td>\n",
       "      <td>21.000000</td>\n",
       "      <td>0.000000</td>\n",
       "    </tr>\n",
       "    <tr>\n",
       "      <th>25%</th>\n",
       "      <td>1.000000</td>\n",
       "      <td>99.000000</td>\n",
       "      <td>62.000000</td>\n",
       "      <td>0.000000</td>\n",
       "      <td>0.000000</td>\n",
       "      <td>27.300000</td>\n",
       "      <td>0.243750</td>\n",
       "      <td>24.000000</td>\n",
       "      <td>0.000000</td>\n",
       "    </tr>\n",
       "    <tr>\n",
       "      <th>50%</th>\n",
       "      <td>3.000000</td>\n",
       "      <td>117.000000</td>\n",
       "      <td>72.000000</td>\n",
       "      <td>23.000000</td>\n",
       "      <td>30.500000</td>\n",
       "      <td>32.000000</td>\n",
       "      <td>0.372500</td>\n",
       "      <td>29.000000</td>\n",
       "      <td>0.000000</td>\n",
       "    </tr>\n",
       "    <tr>\n",
       "      <th>75%</th>\n",
       "      <td>6.000000</td>\n",
       "      <td>140.250000</td>\n",
       "      <td>80.000000</td>\n",
       "      <td>32.000000</td>\n",
       "      <td>127.250000</td>\n",
       "      <td>36.600000</td>\n",
       "      <td>0.626250</td>\n",
       "      <td>41.000000</td>\n",
       "      <td>1.000000</td>\n",
       "    </tr>\n",
       "    <tr>\n",
       "      <th>max</th>\n",
       "      <td>17.000000</td>\n",
       "      <td>199.000000</td>\n",
       "      <td>122.000000</td>\n",
       "      <td>99.000000</td>\n",
       "      <td>846.000000</td>\n",
       "      <td>67.100000</td>\n",
       "      <td>2.420000</td>\n",
       "      <td>81.000000</td>\n",
       "      <td>1.000000</td>\n",
       "    </tr>\n",
       "  </tbody>\n",
       "</table>\n",
       "</div>"
      ],
      "text/plain": [
       "       Pregnancies     Glucose  BloodPressure  SkinThickness     Insulin  \\\n",
       "count   768.000000  768.000000     768.000000     768.000000  768.000000   \n",
       "mean      3.845052  120.894531      69.105469      20.536458   79.799479   \n",
       "std       3.369578   31.972618      19.355807      15.952218  115.244002   \n",
       "min       0.000000    0.000000       0.000000       0.000000    0.000000   \n",
       "25%       1.000000   99.000000      62.000000       0.000000    0.000000   \n",
       "50%       3.000000  117.000000      72.000000      23.000000   30.500000   \n",
       "75%       6.000000  140.250000      80.000000      32.000000  127.250000   \n",
       "max      17.000000  199.000000     122.000000      99.000000  846.000000   \n",
       "\n",
       "              BMI  DiabetesPedigreeFunction         Age     Outcome  \n",
       "count  768.000000                768.000000  768.000000  768.000000  \n",
       "mean    31.992578                  0.471876   33.240885    0.348958  \n",
       "std      7.884160                  0.331329   11.760232    0.476951  \n",
       "min      0.000000                  0.078000   21.000000    0.000000  \n",
       "25%     27.300000                  0.243750   24.000000    0.000000  \n",
       "50%     32.000000                  0.372500   29.000000    0.000000  \n",
       "75%     36.600000                  0.626250   41.000000    1.000000  \n",
       "max     67.100000                  2.420000   81.000000    1.000000  "
      ]
     },
     "execution_count": 5,
     "metadata": {},
     "output_type": "execute_result"
    }
   ],
   "source": [
    "dia.describe()"
   ]
  },
  {
   "cell_type": "markdown",
   "id": "2305c3bc",
   "metadata": {},
   "source": [
    "*We need to use boxplots to spot the outliers. However, we can see that \"Outcome\" is a kind of label, so we don't need boxplot for it. Moreover, \"Pregnancies\", \"Insulin\" and \"DiabetesPedigreeFunction\" have quite different scales from the others, so we will make different graph for these two attributes.*"
   ]
  },
  {
   "cell_type": "code",
   "execution_count": 6,
   "id": "59314f2e",
   "metadata": {},
   "outputs": [
    {
     "data": {
      "image/png": "[encoded data removed]",
      "text/plain": [
       "<Figure size 640x480 with 1 Axes>"
      ]
     },
     "metadata": {},
     "output_type": "display_data"
    }
   ],
   "source": [
    "dia['Pregnancies'].plot(kind = 'box'); ##For attribute \"Pregnancies\""
   ]
  },
  {
   "cell_type": "code",
   "execution_count": 7,
   "id": "22cc029b",
   "metadata": {},
   "outputs": [
    {
     "data": {
      "image/png": "[encoded data removed]",
      "text/plain": [
       "<Figure size 640x480 with 1 Axes>"
      ]
     },
     "metadata": {},
     "output_type": "display_data"
    }
   ],
   "source": [
    "dia['Insulin'].plot(kind = 'box'); ##For attribute \"Insulin\""
   ]
  },
  {
   "cell_type": "code",
   "execution_count": 8,
   "id": "c447235f",
   "metadata": {},
   "outputs": [
    {
     "data": {
      "image/png": "[encoded data removed]",
      "text/plain": [
       "<Figure size 640x480 with 1 Axes>"
      ]
     },
     "metadata": {},
     "output_type": "display_data"
    }
   ],
   "source": [
    "dia['DiabetesPedigreeFunction'].plot(kind = 'box'); ##For attribute \"DiabetesPedigreeFunction\""
   ]
  },
  {
   "cell_type": "code",
   "execution_count": 9,
   "id": "711069d2",
   "metadata": {},
   "outputs": [
    {
     "data": {
      "image/png": "[encoded data removed]",
      "text/plain": [
       "<Figure size 640x480 with 1 Axes>"
      ]
     },
     "metadata": {},
     "output_type": "display_data"
    }
   ],
   "source": [
    "col = dia[['Glucose', 'BloodPressure', 'SkinThickness', 'BMI', 'Age']]\n",
    "col.plot(kind = 'box'); ##For the other attributes"
   ]
  },
  {
   "cell_type": "markdown",
   "id": "ea9bf64c",
   "metadata": {},
   "source": [
    "**From the above plots, we can conclude the outlier for each attributes are:**<br><br>\n",
    "*- Pregnancies: > 13*<br>\n",
    "*- Insulin: > 400*<br>\n",
    "*- DiabetesPedigreeFunction: > 1.5*<br>\n",
    "*- Glucose: < 25*<br>\n",
    "*- BloodPressure: < 25*<br>\n",
    "*- SkinThickness: > 75*<br>\n",
    "*- BMI: > 50 and < 5*<br>\n",
    "*- Age: >75*<br><br>\n",
    "**Now we remove these outliers.**"
   ]
  },
  {
   "cell_type": "code",
   "execution_count": 10,
   "id": "6d96f9d4",
   "metadata": {},
   "outputs": [
    {
     "name": "stdout",
     "output_type": "stream",
     "text": [
      "Dataset shape after removal: (693, 9)\n"
     ]
    }
   ],
   "source": [
    "remove_index = dia.loc[(dia['Pregnancies'] > 13) |\n",
    "                        (dia['Insulin'] > 400) |\n",
    "                        (dia['DiabetesPedigreeFunction'] > 1.5) |\n",
    "                        (dia['Glucose'] < 25) |\n",
    "                        (dia['BloodPressure'] < 25) |\n",
    "                        (dia['SkinThickness'] > 75) |\n",
    "                        ((dia['BMI'] > 50) & (dia['BMI'] < 5)) |\n",
    "                        (dia['Age'] > 75)\n",
    "                       ].index\n",
    "dia = dia.drop(remove_index)\n",
    "print(f'Dataset shape after removal: {dia.shape}')"
   ]
  },
  {
   "cell_type": "markdown",
   "id": "b869cc58",
   "metadata": {},
   "source": [
    "### IV. Model Training"
   ]
  },
  {
   "cell_type": "markdown",
   "id": "1c139160",
   "metadata": {},
   "source": [
    "### 1. Linear Regression:"
   ]
  },
  {
   "cell_type": "markdown",
   "id": "4a840e6c",
   "metadata": {},
   "source": [
    "*In this section, we will train a model to diagnose if a patient has diabetes using the dataset.*<br><br>\n",
    "*First, I will try something simple, I will train a Linear Regression Model.*"
   ]
  },
  {
   "cell_type": "markdown",
   "id": "2f66ffeb",
   "metadata": {},
   "source": [
    "**Model Training:**"
   ]
  },
  {
   "cell_type": "code",
   "execution_count": 11,
   "id": "8389de06",
   "metadata": {},
   "outputs": [],
   "source": [
    "from sklearn.model_selection import train_test_split\n",
    "from sklearn import linear_model\n",
    "from sklearn.metrics import r2_score"
   ]
  },
  {
   "cell_type": "code",
   "execution_count": 12,
   "id": "50f2d91e",
   "metadata": {},
   "outputs": [],
   "source": [
    "X = dia.iloc[:,:-1]\n",
    "y = dia.iloc[:,-1:]\n",
    "X_train, X_test, y_train, y_test = train_test_split(X, y, test_size = 0.2, random_state = 42)"
   ]
  },
  {
   "cell_type": "code",
   "execution_count": 13,
   "id": "c91c7dd4",
   "metadata": {},
   "outputs": [],
   "source": [
    "reg = linear_model.LinearRegression()\n",
    "reg.fit(X_train, y_train);"
   ]
  },
  {
   "cell_type": "markdown",
   "id": "10661d54",
   "metadata": {},
   "source": [
    "**Model Evaluation:**"
   ]
  },
  {
   "cell_type": "code",
   "execution_count": 14,
   "id": "2d6a5340",
   "metadata": {},
   "outputs": [
    {
     "name": "stdout",
     "output_type": "stream",
     "text": [
      "Report on train set:\n",
      "MSE: 0.1529467360684823\n",
      "R Squared: 0.30068081270474034\n"
     ]
    }
   ],
   "source": [
    "print('Report on train set:')\n",
    "y_predict = reg.predict(X_train)\n",
    "mse = ((np.array(y_train) - y_predict) ** 2).sum()/len(y_train)\n",
    "r2 = r2_score(y_train, y_predict)\n",
    "print(\"MSE:\", mse)\n",
    "print(\"R Squared:\", r2)"
   ]
  },
  {
   "cell_type": "code",
   "execution_count": 15,
   "id": "17aafe35",
   "metadata": {},
   "outputs": [
    {
     "name": "stdout",
     "output_type": "stream",
     "text": [
      "Report on test set:\n",
      "MSE: 0.15229660827254976\n",
      "R Squared: 0.3443576719175726\n"
     ]
    }
   ],
   "source": [
    "print('Report on test set:')\n",
    "y_predict = reg.predict(X_test)\n",
    "mse = ((np.array(y_test) - y_predict) ** 2).sum()/len(y_test)\n",
    "r2 = r2_score(y_test, y_predict)\n",
    "print(\"MSE:\", mse)\n",
    "print(\"R Squared:\", r2)"
   ]
  },
  {
   "cell_type": "markdown",
   "id": "cebc4639",
   "metadata": {},
   "source": [
    "*In the report on train set we can see that the MSE is not quite close to 0, and R Squared is not quite close to 1. This means that the model is not accurate enough. Moreover, look into the report on test set, the scores is even worse. Therefore, we can say that the Linear Regression Model is underfitting.*<br><br>\n",
    "*To fix this problem, we can train a more complex model.*"
   ]
  },
  {
   "cell_type": "markdown",
   "id": "1269a49c",
   "metadata": {},
   "source": [
    "### 2. Classification Models:"
   ]
  },
  {
   "cell_type": "markdown",
   "id": "66471f07",
   "metadata": {},
   "source": [
    "*Diagnosing a diabetes patient can be considered as a classification work. Therefore, we should use classification models to improve performance of the model.*<br><br>\n",
    "*Now let's try Logistic Regression Model, a simple model for classification.*"
   ]
  },
  {
   "cell_type": "markdown",
   "id": "11ad24c8",
   "metadata": {},
   "source": [
    "**A. Logistic Regression:**"
   ]
  },
  {
   "cell_type": "markdown",
   "id": "949fb8fb",
   "metadata": {},
   "source": [
    "**Model training:**"
   ]
  },
  {
   "cell_type": "code",
   "execution_count": 16,
   "id": "4ddf11f0",
   "metadata": {},
   "outputs": [],
   "source": [
    "reg = linear_model.LogisticRegression()\n",
    "reg.fit(X_train, y_train);"
   ]
  },
  {
   "cell_type": "markdown",
   "id": "14702245",
   "metadata": {},
   "source": [
    "**Model Evaluation:**"
   ]
  },
  {
   "cell_type": "markdown",
   "id": "e62d7cbc",
   "metadata": {},
   "source": [
    "*To evaluate this classifier model, we will use accuracy score and confusion matrix.*"
   ]
  },
  {
   "cell_type": "code",
   "execution_count": 17,
   "id": "1661d2d2",
   "metadata": {},
   "outputs": [],
   "source": [
    "from sklearn.metrics import confusion_matrix, accuracy_score"
   ]
  },
  {
   "cell_type": "code",
   "execution_count": 18,
   "id": "86d74615",
   "metadata": {},
   "outputs": [
    {
     "name": "stdout",
     "output_type": "stream",
     "text": [
      "Report on Logistic Regression Model:\n",
      "\n",
      "    Accuracy rate: 0.7697841726618705\n",
      "    Confusion matrix: TrueNev:80   FalsePos:8   FalseNev:24   TruePos:27\n",
      "    Precision rate: 0.7714285714285715\n"
     ]
    }
   ],
   "source": [
    "y_pred = reg.predict(X_test)\n",
    "print('Report on Logistic Regression Model:\\n')\n",
    "print(f'    Accuracy rate: {accuracy_score(y_test, y_pred)}')\n",
    "tn, fp, fn, tp = confusion_matrix(y_test, y_pred).ravel()\n",
    "print(f'    Confusion matrix: TrueNev:{tn}   FalsePos:{fp}   FalseNev:{fn}   TruePos:{tp}')\n",
    "print(f'    Precision rate: {tp / (tp + fp)}')"
   ]
  },
  {
   "cell_type": "markdown",
   "id": "8130c78d",
   "metadata": {},
   "source": [
    "*As reported, the accuracy and precision score of this model is quite reasonable. However, it is just right above average, so this model is still not accurate enough.*<br><br>\n",
    "*This may happen when there are too many feature and the model starts to learn from the noises. Therefore, we will perform feature selection and train the model once more to see if it is improved. In this report, I will use RFE feature selection model.*<br><br>\n",
    "*We have 8 attributes in total for X, now I will try select only 4 best features to train the Logistic Regression Model.*"
   ]
  },
  {
   "cell_type": "code",
   "execution_count": 19,
   "id": "e4c233d9",
   "metadata": {},
   "outputs": [
    {
     "name": "stdout",
     "output_type": "stream",
     "text": [
      "Pregnancies: True\n",
      "Glucose: True\n",
      "BloodPressure: False\n",
      "SkinThickness: False\n",
      "Insulin: False\n",
      "BMI: True\n",
      "DiabetesPedigreeFunction: True\n",
      "Age: False\n"
     ]
    }
   ],
   "source": [
    "from sklearn.feature_selection import RFE\n",
    "lr = linear_model.LogisticRegression()\n",
    "rfe = RFE(estimator = lr, n_features_to_select = 4)\n",
    "rfe.fit(X, y);\n",
    "for i in range(len(X.columns)):\n",
    "    print(f'{X.columns[i]}: {rfe.support_[i]}')"
   ]
  },
  {
   "cell_type": "markdown",
   "id": "9c47df4d",
   "metadata": {},
   "source": [
    "*The result shows that \"Pregnancies\", \"Glucose\", \"BMI\" and \"DiabetesPedigreeFunction\" is selected. Now we will train the Logistic Regression Model again using only these 4 features.*"
   ]
  },
  {
   "cell_type": "markdown",
   "id": "57e92d5a",
   "metadata": {},
   "source": [
    "**Model Training:**"
   ]
  },
  {
   "cell_type": "code",
   "execution_count": 20,
   "id": "5b005d5f",
   "metadata": {},
   "outputs": [
    {
     "data": {
      "text/plain": [
       "LogisticRegression()"
      ]
     },
     "execution_count": 20,
     "metadata": {},
     "output_type": "execute_result"
    }
   ],
   "source": [
    "X_new = dia[[\"Pregnancies\", \"Glucose\", \"BMI\", \"DiabetesPedigreeFunction\"]]\n",
    "X_train, X_test, y_train, y_test = train_test_split(X_new, y, test_size = 0.2, random_state = 42)\n",
    "lr.fit(X_train, y_train)"
   ]
  },
  {
   "cell_type": "markdown",
   "id": "3587b91c",
   "metadata": {},
   "source": [
    "**Model Evaluation:**"
   ]
  },
  {
   "cell_type": "code",
   "execution_count": 21,
   "id": "05f4be39",
   "metadata": {},
   "outputs": [
    {
     "name": "stdout",
     "output_type": "stream",
     "text": [
      "Report on Logistic Regression Model:\n",
      "\n",
      "    Accuracy rate: 0.7697841726618705\n",
      "    Confusion matrix: TrueNev:80   FalsePos:8   FalseNev:24   TruePos:27\n",
      "    Precision rate: 0.7714285714285715\n"
     ]
    }
   ],
   "source": [
    "y_pred = lr.predict(X_test)\n",
    "print('Report on Logistic Regression Model:\\n')\n",
    "print(f'    Accuracy rate: {accuracy_score(y_test, y_pred)}')\n",
    "tn, fp, fn, tp = confusion_matrix(y_test, y_pred).ravel()\n",
    "print(f'    Confusion matrix: TrueNev:{tn}   FalsePos:{fp}   FalseNev:{fn}   TruePos:{tp}')\n",
    "print(f'    Precision rate: {tp / (tp + fp)}')"
   ]
  },
  {
   "cell_type": "markdown",
   "id": "c69cd21a",
   "metadata": {},
   "source": [
    "*Obviously, even when we select best features to train Logistic Regression Model, the results remain the same. Therefore, we can see that the problem are not from the noises. This shows that the model is still too simple for such dataset. We can conclude that linear models is not suitable for this dataset.*<br><br>\n",
    "\n",
    "*To fix this, we will try a different classifier model: K-Nearest Neighbors (KNN).*"
   ]
  },
  {
   "cell_type": "markdown",
   "id": "e6dd5e13",
   "metadata": {},
   "source": [
    "**B. K-Nearest Neighbors:**"
   ]
  },
  {
   "cell_type": "markdown",
   "id": "dd39f826",
   "metadata": {},
   "source": [
    "**Parameter Tuning:**"
   ]
  },
  {
   "cell_type": "markdown",
   "id": "d0cc3aa8",
   "metadata": {},
   "source": [
    "*Since we do not know what is the value of K that gives the best performance on the model, we need to performm a parameter tuning technique to find the best K, and then we train the model using that value of K.*<br><br>\n",
    "*In this report, I will use GridSearchCV for parameter tuning.*"
   ]
  },
  {
   "cell_type": "code",
   "execution_count": 22,
   "id": "9494dcc5",
   "metadata": {},
   "outputs": [
    {
     "name": "stdout",
     "output_type": "stream",
     "text": [
      "Best K: KNeighborsClassifier(n_neighbors=16)\n"
     ]
    }
   ],
   "source": [
    "from sklearn.model_selection import GridSearchCV\n",
    "from sklearn.neighbors import KNeighborsClassifier\n",
    "clf = KNeighborsClassifier()\n",
    "grid_search = GridSearchCV(clf, {'n_neighbors': range(1, 200, 5)}, cv = 10, scoring = 'accuracy')\n",
    "grid_search.fit(X, y)\n",
    "print(f'Best K: {grid_search.best_estimator_}')"
   ]
  },
  {
   "cell_type": "markdown",
   "id": "5b08697b",
   "metadata": {},
   "source": [
    "*We can see that GridSearchCV tells us that K = 16 is the best K in this case. Let's take a look at the whole process to see how it's come to this conclusion.*"
   ]
  },
  {
   "cell_type": "code",
   "execution_count": 23,
   "id": "d8f44b3a",
   "metadata": {},
   "outputs": [
    {
     "data": {
      "text/html": [
       "<div>\n",
       "<style scoped>\n",
       "    .dataframe tbody tr th:only-of-type {\n",
       "        vertical-align: middle;\n",
       "    }\n",
       "\n",
       "    .dataframe tbody tr th {\n",
       "        vertical-align: top;\n",
       "    }\n",
       "\n",
       "    .dataframe thead th {\n",
       "        text-align: right;\n",
       "    }\n",
       "</style>\n",
       "<table border=\"1\" class=\"dataframe\">\n",
       "  <thead>\n",
       "    <tr style=\"text-align: right;\">\n",
       "      <th></th>\n",
       "      <th>mean_fit_time</th>\n",
       "      <th>std_fit_time</th>\n",
       "      <th>mean_score_time</th>\n",
       "      <th>std_score_time</th>\n",
       "      <th>param_n_neighbors</th>\n",
       "      <th>params</th>\n",
       "      <th>split0_test_score</th>\n",
       "      <th>split1_test_score</th>\n",
       "      <th>split2_test_score</th>\n",
       "      <th>split3_test_score</th>\n",
       "      <th>split4_test_score</th>\n",
       "      <th>split5_test_score</th>\n",
       "      <th>split6_test_score</th>\n",
       "      <th>split7_test_score</th>\n",
       "      <th>split8_test_score</th>\n",
       "      <th>split9_test_score</th>\n",
       "      <th>mean_test_score</th>\n",
       "      <th>std_test_score</th>\n",
       "      <th>rank_test_score</th>\n",
       "    </tr>\n",
       "  </thead>\n",
       "  <tbody>\n",
       "    <tr>\n",
       "      <th>3</th>\n",
       "      <td>0.002994</td>\n",
       "      <td>0.000002</td>\n",
       "      <td>0.004044</td>\n",
       "      <td>0.00034</td>\n",
       "      <td>16</td>\n",
       "      <td>{'n_neighbors': 16}</td>\n",
       "      <td>0.785714</td>\n",
       "      <td>0.771429</td>\n",
       "      <td>0.714286</td>\n",
       "      <td>0.681159</td>\n",
       "      <td>0.710145</td>\n",
       "      <td>0.782609</td>\n",
       "      <td>0.768116</td>\n",
       "      <td>0.811594</td>\n",
       "      <td>0.782609</td>\n",
       "      <td>0.782609</td>\n",
       "      <td>0.759027</td>\n",
       "      <td>0.039793</td>\n",
       "      <td>1</td>\n",
       "    </tr>\n",
       "  </tbody>\n",
       "</table>\n",
       "</div>"
      ],
      "text/plain": [
       "   mean_fit_time  std_fit_time  mean_score_time  std_score_time  \\\n",
       "3       0.002994      0.000002         0.004044         0.00034   \n",
       "\n",
       "  param_n_neighbors               params  split0_test_score  \\\n",
       "3                16  {'n_neighbors': 16}           0.785714   \n",
       "\n",
       "   split1_test_score  split2_test_score  split3_test_score  split4_test_score  \\\n",
       "3           0.771429           0.714286           0.681159           0.710145   \n",
       "\n",
       "   split5_test_score  split6_test_score  split7_test_score  split8_test_score  \\\n",
       "3           0.782609           0.768116           0.811594           0.782609   \n",
       "\n",
       "   split9_test_score  mean_test_score  std_test_score  rank_test_score  \n",
       "3           0.782609         0.759027        0.039793                1  "
      ]
     },
     "execution_count": 23,
     "metadata": {},
     "output_type": "execute_result"
    }
   ],
   "source": [
    "cv_results = pd.DataFrame(grid_search.cv_results_)\n",
    "cv_results.loc[cv_results['param_n_neighbors'] == 16]"
   ]
  },
  {
   "cell_type": "code",
   "execution_count": 24,
   "id": "0255c7d2",
   "metadata": {},
   "outputs": [
    {
     "data": {
      "image/png": "[encoded data removed]",
      "text/plain": [
       "<Figure size 640x480 with 1 Axes>"
      ]
     },
     "metadata": {},
     "output_type": "display_data"
    }
   ],
   "source": [
    "plt.errorbar(cv_results['param_n_neighbors'], cv_results['mean_test_score'], yerr= cv_results['std_test_score'], marker='x', label='Accuracy');\n",
    "plt.ylim([0.1, 1.1])\n",
    "plt.xlabel('$K$')\n",
    "plt.ylabel('Accuracy')\n",
    "plt.legend(loc='best');"
   ]
  },
  {
   "cell_type": "markdown",
   "id": "675a4dee",
   "metadata": {},
   "source": [
    "*We can see from the above graph that the performance of K increases from 1 and reach the peak at 16, after that it starts decreasing continuosly. However, if we look into the mean test score of K = 16, it is only 0.795, not seems to be accurate enough for a medical diagnose system.*<br><br>\n",
    "*Nevertheless, let's try training the model and evaluate it with unseen data to see how well it works.*"
   ]
  },
  {
   "cell_type": "markdown",
   "id": "0cabcfb0",
   "metadata": {},
   "source": [
    "**Model Training:**"
   ]
  },
  {
   "cell_type": "code",
   "execution_count": 25,
   "id": "71f9317e",
   "metadata": {},
   "outputs": [
    {
     "data": {
      "text/plain": [
       "KNeighborsClassifier(n_neighbors=16)"
      ]
     },
     "execution_count": 25,
     "metadata": {},
     "output_type": "execute_result"
    }
   ],
   "source": [
    "clf = clf = KNeighborsClassifier(n_neighbors = 16)\n",
    "clf.fit(X_train, y_train)"
   ]
  },
  {
   "cell_type": "markdown",
   "id": "74604f46",
   "metadata": {},
   "source": [
    "**Model Evaluation:**"
   ]
  },
  {
   "cell_type": "markdown",
   "id": "801cb5fa",
   "metadata": {},
   "source": [
    "*I will use K-fold cross validation technique to evaluate the model.*"
   ]
  },
  {
   "cell_type": "code",
   "execution_count": 26,
   "id": "b59b1a38",
   "metadata": {},
   "outputs": [
    {
     "name": "stdout",
     "output_type": "stream",
     "text": [
      "Mean accuracy score: 0.7703296703296703    Standard deviation: 0.07576841396016788\n"
     ]
    }
   ],
   "source": [
    "from sklearn.model_selection import cross_val_score, KFold\n",
    "KNN_scores = cross_val_score(clf, X_test, y_test, scoring='accuracy', cv = KFold(n_splits=10, shuffle=True))\n",
    "print(f'Mean accuracy score: {KNN_scores.mean()}    Standard deviation: {KNN_scores.std()}')"
   ]
  },
  {
   "cell_type": "markdown",
   "id": "a1f9c1fd",
   "metadata": {},
   "source": [
    "*It is obvious that the performance for this model is even higher than expected. However, let's perform K-fold cross validation on the previous Logistic Regression Model, and compare the accuracy score to the KNN Model. Then, we will conclude which model is better.* "
   ]
  },
  {
   "cell_type": "code",
   "execution_count": 27,
   "id": "dacfeff2",
   "metadata": {},
   "outputs": [
    {
     "name": "stdout",
     "output_type": "stream",
     "text": [
      "Mean accuracy score: 0.7906593406593407    Standard deviation: 0.08939173755795328\n"
     ]
    }
   ],
   "source": [
    "lr_scores = cross_val_score(lr, X_test, y_test, scoring='accuracy', cv = KFold(n_splits=10, shuffle=True))\n",
    "print(f'Mean accuracy score: {lr_scores.mean()}    Standard deviation: {lr_scores.std()}')"
   ]
  },
  {
   "cell_type": "markdown",
   "id": "1fdc2d90-fbf4-43f3-bbe8-33baa488d4f3",
   "metadata": {},
   "source": [
    "### V. Conclusion"
   ]
  },
  {
   "cell_type": "markdown",
   "id": "2d11c75c",
   "metadata": {},
   "source": [
    "*Clearly, the Logistic Regression Model is the best model for the diagnose system until now with the accuracy up to 80%.*"
   ]
  }
 ],
 "metadata": {
  "kernelspec": {
   "display_name": "Python 3 (ipykernel)",
   "language": "python",
   "name": "python3"
  },
  "language_info": {
   "codemirror_mode": {
    "name": "ipython",
    "version": 3
   },
   "file_extension": ".py",
   "mimetype": "text/x-python",
   "name": "python",
   "nbconvert_exporter": "python",
   "pygments_lexer": "ipython3",
   "version": "3.10.13"
  }
 },
 "nbformat": 4,
 "nbformat_minor": 5
}
